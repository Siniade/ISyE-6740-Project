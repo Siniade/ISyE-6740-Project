{
 "cells": [
  {
   "cell_type": "markdown",
   "id": "deb8911d",
   "metadata": {},
   "source": [
    "## Illustrate how to tranform data matrix into pictures"
   ]
  },
  {
   "cell_type": "code",
   "execution_count": 3,
   "id": "4fa2a297",
   "metadata": {},
   "outputs": [],
   "source": [
    "import numpy as np\n",
    "import pandas as pd\n",
    "import matplotlib.pyplot as plt\n",
    "%matplotlib inline\n",
    "import cv2"
   ]
  },
  {
   "cell_type": "code",
   "execution_count": 4,
   "id": "85632852",
   "metadata": {},
   "outputs": [
    {
     "data": {
      "text/plain": [
       "'/Users/sanchitdighe/Documents/GaTech/Sem 2/ISyE 6740 - CDA/Project/archive'"
      ]
     },
     "execution_count": 4,
     "metadata": {},
     "output_type": "execute_result"
    }
   ],
   "source": [
    "import os\n",
    "filepath = 'Documents/GaTech/Sem 2/ISyE 6740 - CDA/Project/archive'\n",
    "os.chdir(os.path.expanduser('~/'))\n",
    "os.chdir(filepath)\n",
    "os.getcwd()"
   ]
  },
  {
   "cell_type": "code",
   "execution_count": 7,
   "id": "23464c1d",
   "metadata": {},
   "outputs": [],
   "source": [
    "#os.listdir('Happy')"
   ]
  },
  {
   "cell_type": "markdown",
   "id": "5327f3af",
   "metadata": {},
   "source": [
    "### Read Images from File"
   ]
  },
  {
   "cell_type": "code",
   "execution_count": 10,
   "id": "eb41726d",
   "metadata": {},
   "outputs": [
    {
     "name": "stdout",
     "output_type": "stream",
     "text": [
      "Happy\n",
      "Fear\n",
      "Neutral\n",
      "Angry\n",
      "Disgust\n"
     ]
    }
   ],
   "source": [
    "#X_data = {'Happy':[], 'Fear':[], 'Neutral':[], 'Angry':[], 'Disgust':[]}\n",
    "X_data = []\n",
    "y = []\n",
    "for files in os.listdir():\n",
    "    if not files.startswith('.'):\n",
    "        print(files)\n",
    "        #print(os.listdir(files))\n",
    "        for image in os.listdir(files):\n",
    "            path = f\"{files}/{image}\"\n",
    "            data = cv2.imread(path) # Reads image in BGR format\n",
    "            data = cv2.cvtColor(data, cv2.COLOR_BGR2GRAY) # Convert to Grayscale\n",
    "            X_data.append (data)\n",
    "        for j in range(len(os.listdir(files))):\n",
    "            y.append(files)\n",
    "\n",
    "        \n"
   ]
  },
  {
   "cell_type": "code",
   "execution_count": 11,
   "id": "9df88d0f",
   "metadata": {},
   "outputs": [],
   "source": [
    "X_data = np.asarray(X_data).astype('float32')"
   ]
  },
  {
   "cell_type": "code",
   "execution_count": 12,
   "id": "4b710051",
   "metadata": {},
   "outputs": [
    {
     "data": {
      "text/plain": [
       "array([[0.2       , 0.18431373, 0.21568628, ..., 0.2509804 , 0.27058825,\n",
       "        0.28627452],\n",
       "       [0.29411766, 0.30980393, 0.23529412, ..., 0.84313726, 0.8156863 ,\n",
       "        0.78431374],\n",
       "       [0.8509804 , 0.9254902 , 0.9372549 , ..., 0.8235294 , 0.8156863 ,\n",
       "        0.79607844],\n",
       "       ...,\n",
       "       [0.24705882, 0.25882354, 0.27450982, ..., 0.21568628, 0.23921569,\n",
       "        0.22745098],\n",
       "       [0.75686276, 0.78039217, 0.6901961 , ..., 0.25490198, 0.24313726,\n",
       "        0.23921569],\n",
       "       [0.75686276, 0.78039217, 0.6901961 , ..., 0.25490198, 0.24313726,\n",
       "        0.23921569]], dtype=float32)"
      ]
     },
     "execution_count": 12,
     "metadata": {},
     "output_type": "execute_result"
    }
   ],
   "source": [
    "X_data.shape\n",
    "from sklearn.preprocessing import LabelEncoder\n",
    "\n",
    "le = LabelEncoder()\n",
    "y = le.fit_transform(y)\n",
    "\n",
    "X_data = X_data/255\n",
    "X_data[:,:,1]"
   ]
  },
  {
   "cell_type": "code",
   "execution_count": 13,
   "id": "05dfcb8e",
   "metadata": {},
   "outputs": [
    {
     "data": {
      "image/png": "[encoded data removed]",
      "text/plain": [
       "<Figure size 432x288 with 1 Axes>"
      ]
     },
     "metadata": {
      "needs_background": "light"
     },
     "output_type": "display_data"
    },
    {
     "data": {
      "text/plain": [
       "(48, 48)"
      ]
     },
     "execution_count": 13,
     "metadata": {},
     "output_type": "execute_result"
    }
   ],
   "source": [
    "path = \"Happy/Training_77412.jpg\"\n",
    "data = cv2.imread(path)\n",
    "data = cv2.cvtColor(data, cv2.COLOR_BGR2GRAY)\n",
    "plt.imshow(data, cmap='Greys_r')\n",
    "plt.show()\n",
    "data.shape"
   ]
  },
  {
   "cell_type": "markdown",
   "id": "b164188e",
   "metadata": {},
   "source": [
    "### Split Data into Train and Test"
   ]
  },
  {
   "cell_type": "code",
   "execution_count": 14,
   "id": "3411b1c1",
   "metadata": {},
   "outputs": [],
   "source": [
    "# Using Skicit-learn to split data into training and testing sets\n",
    "from sklearn.model_selection import train_test_split\n",
    "\n",
    "# Split the data into training and testing sets\n",
    "X_train, X_test, y_train, y_test = train_test_split(X_data, y, test_size = 0.25, random_state = 42)\n",
    "\n",
    "\n"
   ]
  },
  {
   "cell_type": "markdown",
   "id": "a04d8714",
   "metadata": {},
   "source": [
    "#### Convert Y labels to Numpy Arrays"
   ]
  },
  {
   "cell_type": "code",
   "execution_count": 15,
   "id": "014d379f",
   "metadata": {},
   "outputs": [],
   "source": [
    "Y_train = np.asarray(y_train)\n",
    "Y_test = np.asarray(y_test)"
   ]
  },
  {
   "cell_type": "markdown",
   "id": "436fd671",
   "metadata": {},
   "source": [
    "## Decompose Training Images using CP and Tucker Decomposition"
   ]
  },
  {
   "cell_type": "markdown",
   "id": "a670304f",
   "metadata": {},
   "source": [
    "#### Import Tensorly Library"
   ]
  },
  {
   "cell_type": "code",
   "execution_count": 16,
   "id": "f5f9b297",
   "metadata": {},
   "outputs": [],
   "source": [
    "import tensorly as tl\n",
    "from tensorly.decomposition import parafac\n",
    "from tensorly.decomposition import tucker\n",
    "from tensorly.tenalg import mode_dot"
   ]
  },
  {
   "cell_type": "markdown",
   "id": "d882d8f9",
   "metadata": {},
   "source": [
    "#### Decompose Training Set with CP & Tucker"
   ]
  },
  {
   "cell_type": "code",
   "execution_count": 12,
   "id": "6fe06956",
   "metadata": {},
   "outputs": [],
   "source": [
    "X_train_cp = np.empty(shape=(48,48, len(X_train)),dtype='float32') #CP\n",
    "rank_cp = 5\n",
    "\n",
    "rank_tuck = [5,5]\n",
    "X_train_tuck = np.empty(shape=(rank_tuck[0], rank_tuck[1], len(X_train)), dtype='float32') #Tucker\n",
    "\n",
    "for i in range(len(X_train)): # i iterates through all images\n",
    "    # Specify the tensor\n",
    "    X = tl.tensor(X_train[i].astype(float))\n",
    "    \n",
    "    # Perform CP decompositon using TensorLy\n",
    "    factors_tl = parafac(X, rank=rank_cp)\n",
    "    a, b = factors_tl\n",
    "    b1 = []\n",
    "    b2 = []\n",
    "    for j in range(rank_cp): # j iterates through all ranks\n",
    "        b1 = b[0][:,j].reshape(-1,1).astype(np.float32)\n",
    "        b2 = b[1][:,j].reshape(-1,1).astype(np.float32)\n",
    "        X_train_cp[:,:,i] = X_train_cp[:,:,i] + np.tensordot(b1, b2.T, axes=1)\n",
    "    \n",
    "    # Perform Tucker Decomposition using TensorLy\n",
    "    X_train_tuck[:,:,i], factors = tucker(X, rank=rank_tuck)"
   ]
  },
  {
   "cell_type": "markdown",
   "id": "78a6d156",
   "metadata": {},
   "source": [
    "#### Decompose Testing Set with CP\n",
    "* For Tucker, we'll use the Tucker factorizing matrices computed above from training set to compute the core test matrix"
   ]
  },
  {
   "cell_type": "code",
   "execution_count": 13,
   "id": "2673b879",
   "metadata": {},
   "outputs": [],
   "source": [
    "X_test_cp = np.empty(shape=(48,48, len(X_test)),dtype='float32') #CP\n",
    "\n",
    "#core_test = np.empty(shape=(rank_tuck[0], rank_tuck[1], len(X_test)), dtype='float32') #Tucker\n",
    "\n",
    "for i in range(len(X_test)): # i iterates through all images\n",
    "    # Specify the tensor and the rank\n",
    "    X, rank = tl.tensor(X_test[i].astype(float)), 5\n",
    "    \n",
    "    # Perform CP decompositon using TensorLy\n",
    "    factors_tl = parafac(X, rank=rank_cp) \n",
    "    a, b = factors_tl\n",
    "    b1 = []\n",
    "    b2 = []\n",
    "    for j in range(rank_cp): # j iterates through all ranks\n",
    "        b1 = b[0][:,j].reshape(-1,1).astype(np.float32)\n",
    "        b2 = b[1][:,j].reshape(-1,1).astype(np.float32)\n",
    "        X_test_cp[:,:,i] = X_test_cp[:,:,i] + np.tensordot(b1, b2.T, axes=1)\n",
    "    \n",
    "    # Perform Tucker Decomposition using TensorLy\n",
    "    #rank_tuck = [5,5]\n",
    "    #core_test[:,:,i], factors = tucker(X, rank=rank_tuck)"
   ]
  },
  {
   "cell_type": "markdown",
   "id": "b7605da3",
   "metadata": {},
   "source": [
    "* Flatten train and test inputs of CP Decomposed Images for Classifier"
   ]
  },
  {
   "cell_type": "code",
   "execution_count": 14,
   "id": "7fda73df",
   "metadata": {},
   "outputs": [],
   "source": [
    "X_train_cp = X_train_cp.reshape(X_train_cp.shape[2],-1)\n",
    "X_test_cp = X_test_cp.reshape(X_test_cp.shape[2],-1)"
   ]
  },
  {
   "cell_type": "markdown",
   "id": "7aaac70f",
   "metadata": {},
   "source": [
    "* Compute Test Inputs for Tucker Decomposed Images using Tensor-Matrix Multiplication"
   ]
  },
  {
   "cell_type": "code",
   "execution_count": 15,
   "id": "85915ce7",
   "metadata": {},
   "outputs": [],
   "source": [
    "factors_tuck = np.asarray(factors)\n",
    "#X_test_tuck = np.zeros((len(X_test),5,5))\n",
    "X_test_tuck =[]\n",
    "for i in range(len(X_test)):\n",
    "    X = tl.tensor(X_test[i].astype(float))\n",
    "    c1 = mode_dot(X, factors_tuck[0],0, transpose=True)\n",
    "    \n",
    "    X_test_tuck.append(mode_dot(c1, factors_tuck[1],1, transpose=True))\n",
    "\n"
   ]
  },
  {
   "cell_type": "markdown",
   "id": "3a3a30ef",
   "metadata": {},
   "source": [
    "* Flatten train and test inputs of Tucker Decomposed Images for Classifier"
   ]
  },
  {
   "cell_type": "code",
   "execution_count": 16,
   "id": "246bf795",
   "metadata": {},
   "outputs": [],
   "source": [
    "X_train_tuck = X_train_tuck.reshape(X_train_tuck.shape[2],-1)\n",
    "X_test_tuck = np.asarray(X_test_tuck)\n",
    "X_test_tuck = X_test_tuck.reshape(X_test_tuck.shape[0],-1)"
   ]
  },
  {
   "cell_type": "code",
   "execution_count": 17,
   "id": "afe23ea3",
   "metadata": {},
   "outputs": [],
   "source": [
    "#plt.imshow(X_train[1], cmap='Greys_r')"
   ]
  },
  {
   "cell_type": "markdown",
   "id": "bb38cfd1",
   "metadata": {},
   "source": [
    "### Fit RandomForest Classifier on CP Decomposed Images"
   ]
  },
  {
   "cell_type": "code",
   "execution_count": 37,
   "id": "51b8ac54",
   "metadata": {},
   "outputs": [
    {
     "data": {
      "text/plain": [
       "RandomForestClassifier(n_estimators=500, random_state=42)"
      ]
     },
     "execution_count": 37,
     "metadata": {},
     "output_type": "execute_result"
    }
   ],
   "source": [
    "# Import the model we are using\n",
    "from sklearn.ensemble import RandomForestClassifier\n",
    "# Instantiate model with 100 decision trees\n",
    "rf_cp = RandomForestClassifier(n_estimators = 500, random_state = 42, max_depth=6)\n",
    "# Train the model on training data\n",
    "rf_cp.fit(X_train_cp, Y_train)"
   ]
  },
  {
   "cell_type": "code",
   "execution_count": 38,
   "id": "1789d9a9",
   "metadata": {},
   "outputs": [
    {
     "data": {
      "text/plain": [
       "array([3, 3, 3, ..., 3, 3, 3])"
      ]
     },
     "execution_count": 38,
     "metadata": {},
     "output_type": "execute_result"
    }
   ],
   "source": [
    "rf_cp.predict(X_test_cp)"
   ]
  },
  {
   "cell_type": "code",
   "execution_count": 39,
   "id": "5638b1ac",
   "metadata": {},
   "outputs": [
    {
     "data": {
      "text/plain": [
       "0.4069684759421664"
      ]
     },
     "execution_count": 39,
     "metadata": {},
     "output_type": "execute_result"
    }
   ],
   "source": [
    "np.sum(rf_cp.predict(X_test_cp)==Y_test)/len(Y_test)"
   ]
  },
  {
   "cell_type": "markdown",
   "id": "33dc0172",
   "metadata": {},
   "source": [
    "### Fit RandomForest Classifier on Tucker Decomposed Images"
   ]
  },
  {
   "cell_type": "code",
   "execution_count": 40,
   "id": "af169fe7",
   "metadata": {},
   "outputs": [
    {
     "data": {
      "text/plain": [
       "RandomForestClassifier(n_estimators=500, random_state=42)"
      ]
     },
     "execution_count": 40,
     "metadata": {},
     "output_type": "execute_result"
    }
   ],
   "source": [
    "## Random Forest using Tucker Decomposition\n",
    "\n",
    "# Instantiate model with 100 decision trees\n",
    "rf_tuck = RandomForestClassifier(n_estimators = 500, random_state = 42, max_depth=6)\n",
    "# Train the model on training data\n",
    "rf_tuck.fit(X_train_tuck, Y_train)"
   ]
  },
  {
   "cell_type": "code",
   "execution_count": 41,
   "id": "161fea76",
   "metadata": {},
   "outputs": [
    {
     "data": {
      "text/plain": [
       "array([3, 3, 3, ..., 3, 3, 3])"
      ]
     },
     "execution_count": 41,
     "metadata": {},
     "output_type": "execute_result"
    }
   ],
   "source": [
    "rf_tuck.predict(X_test_tuck)"
   ]
  },
  {
   "cell_type": "code",
   "execution_count": 42,
   "id": "8d4b3b59",
   "metadata": {},
   "outputs": [
    {
     "data": {
      "text/plain": [
       "0.40388717705617444"
      ]
     },
     "execution_count": 42,
     "metadata": {},
     "output_type": "execute_result"
    }
   ],
   "source": [
    "np.sum(rf_tuck.predict(X_test_tuck)==Y_test)/len(Y_test)"
   ]
  },
  {
   "cell_type": "code",
   "execution_count": 43,
   "id": "54d1d2cc",
   "metadata": {},
   "outputs": [
    {
     "data": {
      "text/plain": [
       "(4219, 2304)"
      ]
     },
     "execution_count": 43,
     "metadata": {},
     "output_type": "execute_result"
    }
   ],
   "source": [
    "X_test.shape"
   ]
  },
  {
   "cell_type": "markdown",
   "id": "c3615af7",
   "metadata": {},
   "source": [
    "### Fit RandomForest Classifier on Non-Decomposed Images"
   ]
  },
  {
   "cell_type": "code",
   "execution_count": 17,
   "id": "a3298880",
   "metadata": {},
   "outputs": [],
   "source": [
    "X_train = X_train.reshape(X_train.shape[0],-1)\n",
    "X_test = X_test.reshape(X_test.shape[0],-1)"
   ]
  },
  {
   "cell_type": "code",
   "execution_count": 45,
   "id": "1e7f84a6",
   "metadata": {},
   "outputs": [
    {
     "data": {
      "text/plain": [
       "RandomForestClassifier(n_estimators=500, random_state=42)"
      ]
     },
     "execution_count": 45,
     "metadata": {},
     "output_type": "execute_result"
    }
   ],
   "source": [
    "## Random Forest using Tucker Decomposition\n",
    "\n",
    "# Instantiate model with 100 decision trees\n",
    "rf = RandomForestClassifier(n_estimators = 500, random_state = 42, max_depth=6)\n",
    "# Train the model on training data\n",
    "rf.fit(X_train, Y_train)"
   ]
  },
  {
   "cell_type": "code",
   "execution_count": 46,
   "id": "81ed00e7",
   "metadata": {},
   "outputs": [
    {
     "data": {
      "text/plain": [
       "array([3, 3, 4, ..., 1, 3, 3])"
      ]
     },
     "execution_count": 46,
     "metadata": {},
     "output_type": "execute_result"
    }
   ],
   "source": [
    "rf.predict(X_test)"
   ]
  },
  {
   "cell_type": "code",
   "execution_count": 47,
   "id": "02291620",
   "metadata": {},
   "outputs": [
    {
     "data": {
      "text/plain": [
       "0.5479971557241052"
      ]
     },
     "execution_count": 47,
     "metadata": {},
     "output_type": "execute_result"
    }
   ],
   "source": [
    "np.sum(rf.predict(X_test)==Y_test)/len(Y_test)"
   ]
  },
  {
   "cell_type": "markdown",
   "id": "e2fb2b62",
   "metadata": {},
   "source": [
    "### Fit Multi-Layer Perceptron Model"
   ]
  },
  {
   "cell_type": "code",
   "execution_count": 19,
   "id": "40d8c8b7",
   "metadata": {},
   "outputs": [
    {
     "name": "stdout",
     "output_type": "stream",
     "text": [
      "Training accuracy:  0.5092834004898475\n",
      "Testing accuracy:  0.46622422374970374\n"
     ]
    },
    {
     "name": "stderr",
     "output_type": "stream",
     "text": [
      "/Users/sanchitdighe/anaconda3/lib/python3.8/site-packages/sklearn/neural_network/_multilayer_perceptron.py:549: ConvergenceWarning: lbfgs failed to converge (status=1):\n",
      "STOP: TOTAL NO. of ITERATIONS REACHED LIMIT.\n",
      "\n",
      "Increase the number of iterations (max_iter) or scale the data as shown in:\n",
      "    https://scikit-learn.org/stable/modules/preprocessing.html\n",
      "  self.n_iter_ = _check_optimize_result(\"lbfgs\", opt_res, self.max_iter)\n"
     ]
    }
   ],
   "source": [
    "from sklearn.neural_network import MLPClassifier\n",
    "#import pickle5 as pickle\n",
    "\n",
    "nn = MLPClassifier(solver='lbfgs', alpha=1e-5,\n",
    "                    hidden_layer_sizes=(5, 5, 5), random_state=42)\n",
    "\n",
    "nn.fit(X_train, Y_train)\n",
    "\n",
    "#with open('nnmodel.pkl','wb') as f:\n",
    "#    pickle.dump(nn,f)\n",
    "\n",
    "print('Training accuracy: ', nn.score(X_train, Y_train))\n",
    "print('Testing accuracy: ', nn.score(X_test, Y_test))\n"
   ]
  },
  {
   "cell_type": "code",
   "execution_count": null,
   "id": "082059d4",
   "metadata": {},
   "outputs": [],
   "source": []
  },
  {
   "cell_type": "code",
   "execution_count": null,
   "id": "71e54401",
   "metadata": {},
   "outputs": [],
   "source": []
  },
  {
   "cell_type": "code",
   "execution_count": null,
   "id": "d1526719",
   "metadata": {},
   "outputs": [],
   "source": [
    "df['emotion'].mask(df['emotion'] == 0, 'Anger', inplace=True)\n",
    "df['emotion'].mask(df['emotion'] == 1, 'Disgust', inplace=True)\n",
    "df['emotion'].mask(df['emotion'] == 2, 'Fear', inplace=True)\n",
    "df['emotion'].mask(df['emotion'] == 3, 'Happy', inplace=True)\n",
    "df['emotion'].mask(df['emotion'] == 4, 'Sad', inplace=True)\n",
    "df['emotion'].mask(df['emotion'] == 5, 'Surprise', inplace=True)\n",
    "df['emotion'].mask(df['emotion'] == 6, 'Neutral', inplace=True)"
   ]
  },
  {
   "cell_type": "code",
   "execution_count": null,
   "id": "d2e84efb",
   "metadata": {},
   "outputs": [],
   "source": [
    "df"
   ]
  },
  {
   "cell_type": "code",
   "execution_count": null,
   "id": "434f44d9",
   "metadata": {},
   "outputs": [],
   "source": []
  },
  {
   "cell_type": "code",
   "execution_count": null,
   "id": "f003abd1",
   "metadata": {},
   "outputs": [],
   "source": [
    "for i in range(5):\n",
    "    r = np.random.randint((1), 24000, 1)[0]\n",
    "    plt.figure()\n",
    "    img = df.iloc[r]['pixels'].split()\n",
    "    img = [int(i) for i in img]\n",
    "    img = np.array(img)\n",
    "    img = img.reshape(48,48)\n",
    "    plt.imshow(img, cmap='gray')\n",
    "    plt.xlabel(df.iloc[r]['emotion'])"
   ]
  },
  {
   "cell_type": "code",
   "execution_count": null,
   "id": "bd51ee2b",
   "metadata": {},
   "outputs": [],
   "source": []
  }
 ],
 "metadata": {
  "kernelspec": {
   "display_name": "Python 3 (ipykernel)",
   "language": "python",
   "name": "python3"
  },
  "language_info": {
   "codemirror_mode": {
    "name": "ipython",
    "version": 3
   },
   "file_extension": ".py",
   "mimetype": "text/x-python",
   "name": "python",
   "nbconvert_exporter": "python",
   "pygments_lexer": "ipython3",
   "version": "3.8.8"
  }
 },
 "nbformat": 4,
 "nbformat_minor": 5
}
